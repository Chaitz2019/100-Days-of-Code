{
  "nbformat": 4,
  "nbformat_minor": 0,
  "metadata": {
    "colab": {
      "name": "Q1.ipynb",
      "version": "0.3.2",
      "provenance": [],
      "collapsed_sections": []
    },
    "kernelspec": {
      "name": "python3",
      "display_name": "Python 3"
    },
    "accelerator": "TPU"
  },
  "cells": [
    {
      "cell_type": "markdown",
      "metadata": {
        "id": "_jZ-F2pT8rdS",
        "colab_type": "text"
      },
      "source": [
        "# SImple FNN on MNIST Dataset\n",
        "\n"
      ]
    },
    {
      "cell_type": "code",
      "metadata": {
        "id": "SNcFnM2Ko23C",
        "colab_type": "code",
        "outputId": "472dfb38-a987-49bd-d979-5b9022b10500",
        "colab": {
          "base_uri": "https://localhost:8080/",
          "height": 570
        }
      },
      "source": [
        "import tensorflow as tf\n",
        "import matplotlib.pyplot as plt\n",
        "from tensorflow.examples.tutorials.mnist import input_data\n",
        "mnist = input_data.read_data_sets(\"MNIST_data/\", one_hot=True)\n",
        "trainX = mnist.train.images\n",
        "trainY = mnist.train.labels\n",
        "#print(trainY)\n",
        "testX = mnist.test.images\n",
        "testY = mnist.test.labels"
      ],
      "execution_count": 1,
      "outputs": [
        {
          "output_type": "stream",
          "text": [
            "WARNING: Logging before flag parsing goes to stderr.\n",
            "W0806 19:18:01.745059 140486249432960 deprecation.py:323] From <ipython-input-1-8aa1721edebc>:4: read_data_sets (from tensorflow.contrib.learn.python.learn.datasets.mnist) is deprecated and will be removed in a future version.\n",
            "Instructions for updating:\n",
            "Please use alternatives such as official/mnist/dataset.py from tensorflow/models.\n",
            "W0806 19:18:01.747056 140486249432960 deprecation.py:323] From /usr/local/lib/python3.6/dist-packages/tensorflow/contrib/learn/python/learn/datasets/mnist.py:260: maybe_download (from tensorflow.contrib.learn.python.learn.datasets.base) is deprecated and will be removed in a future version.\n",
            "Instructions for updating:\n",
            "Please write your own downloading logic.\n",
            "W0806 19:18:01.748554 140486249432960 deprecation.py:323] From /usr/local/lib/python3.6/dist-packages/tensorflow/contrib/learn/python/learn/datasets/base.py:252: _internal_retry.<locals>.wrap.<locals>.wrapped_fn (from tensorflow.contrib.learn.python.learn.datasets.base) is deprecated and will be removed in a future version.\n",
            "Instructions for updating:\n",
            "Please use urllib or similar directly.\n",
            "W0806 19:18:01.846668 140486249432960 deprecation.py:323] From /usr/local/lib/python3.6/dist-packages/tensorflow/contrib/learn/python/learn/datasets/mnist.py:262: extract_images (from tensorflow.contrib.learn.python.learn.datasets.mnist) is deprecated and will be removed in a future version.\n",
            "Instructions for updating:\n",
            "Please use tf.data to implement this functionality.\n"
          ],
          "name": "stderr"
        },
        {
          "output_type": "stream",
          "text": [
            "Successfully downloaded train-images-idx3-ubyte.gz 9912422 bytes.\n",
            "Extracting MNIST_data/train-images-idx3-ubyte.gz\n"
          ],
          "name": "stdout"
        },
        {
          "output_type": "stream",
          "text": [
            "W0806 19:18:02.165232 140486249432960 deprecation.py:323] From /usr/local/lib/python3.6/dist-packages/tensorflow/contrib/learn/python/learn/datasets/mnist.py:267: extract_labels (from tensorflow.contrib.learn.python.learn.datasets.mnist) is deprecated and will be removed in a future version.\n",
            "Instructions for updating:\n",
            "Please use tf.data to implement this functionality.\n",
            "W0806 19:18:02.171572 140486249432960 deprecation.py:323] From /usr/local/lib/python3.6/dist-packages/tensorflow/contrib/learn/python/learn/datasets/mnist.py:110: dense_to_one_hot (from tensorflow.contrib.learn.python.learn.datasets.mnist) is deprecated and will be removed in a future version.\n",
            "Instructions for updating:\n",
            "Please use tf.one_hot on tensors.\n",
            "W0806 19:18:02.268492 140486249432960 deprecation.py:323] From /usr/local/lib/python3.6/dist-packages/tensorflow/contrib/learn/python/learn/datasets/mnist.py:290: DataSet.__init__ (from tensorflow.contrib.learn.python.learn.datasets.mnist) is deprecated and will be removed in a future version.\n",
            "Instructions for updating:\n",
            "Please use alternatives such as official/mnist/dataset.py from tensorflow/models.\n"
          ],
          "name": "stderr"
        },
        {
          "output_type": "stream",
          "text": [
            "Successfully downloaded train-labels-idx1-ubyte.gz 28881 bytes.\n",
            "Extracting MNIST_data/train-labels-idx1-ubyte.gz\n",
            "Successfully downloaded t10k-images-idx3-ubyte.gz 1648877 bytes.\n",
            "Extracting MNIST_data/t10k-images-idx3-ubyte.gz\n",
            "Successfully downloaded t10k-labels-idx1-ubyte.gz 4542 bytes.\n",
            "Extracting MNIST_data/t10k-labels-idx1-ubyte.gz\n"
          ],
          "name": "stdout"
        }
      ]
    },
    {
      "cell_type": "code",
      "metadata": {
        "id": "IHRelU5rkyo5",
        "colab_type": "code",
        "colab": {}
      },
      "source": [
        "X= tf.placeholder(tf.float32, [None, 784], name= \"Input\")\n",
        "Y= tf.placeholder(tf.float32, [None, 10], name= \"Output\")\n",
        "keep_prob = tf.placeholder(\"float\")\n"
      ],
      "execution_count": 0,
      "outputs": []
    },
    {
      "cell_type": "markdown",
      "metadata": {
        "id": "oX6jDjzuN3WQ",
        "colab_type": "text"
      },
      "source": [
        "**Input Layer**"
      ]
    },
    {
      "cell_type": "code",
      "metadata": {
        "id": "Ozo7sFRclWoj",
        "colab_type": "code",
        "colab": {}
      },
      "source": [
        "\n",
        "weights_1 = tf.Variable(tf.truncated_normal([784,1024], stddev=0.09),name=\"Weights1\")\n",
        "biases_1 = tf.Variable(tf.zeros([1024]),name=\"Bias1\")\n",
        "hidden_1 = tf.nn.relu(tf.matmul(X, weights_1) + biases_1)"
      ],
      "execution_count": 0,
      "outputs": []
    },
    {
      "cell_type": "markdown",
      "metadata": {
        "id": "sMSSouC1OFGZ",
        "colab_type": "text"
      },
      "source": [
        "**Hidden layer 1**"
      ]
    },
    {
      "cell_type": "code",
      "metadata": {
        "id": "DqYhMG4L83an",
        "colab_type": "code",
        "colab": {}
      },
      "source": [
        "\n",
        "weights_4 = tf.Variable(tf.truncated_normal([1024,1024], stddev=0.09),name=\"Weights2\")\n",
        "biases_4 = tf.Variable(tf.zeros([1024]),name=\"Bias2\")\n",
        "hidden_4 = tf.nn.leaky_relu(tf.matmul(hidden_1, weights_4) + biases_4)"
      ],
      "execution_count": 0,
      "outputs": []
    },
    {
      "cell_type": "markdown",
      "metadata": {
        "id": "OZBf-i3FOIIG",
        "colab_type": "text"
      },
      "source": [
        "**Hidden Layer 2**"
      ]
    },
    {
      "cell_type": "code",
      "metadata": {
        "id": "cWMCemGPZMf7",
        "colab_type": "code",
        "colab": {}
      },
      "source": [
        "\n",
        "weights_5 = tf.Variable(tf.truncated_normal([1024,1024], stddev=0.09),name=\"Weights3\")\n",
        "biases_5 = tf.Variable(tf.zeros([1024]),name=\"Bias3\")\n",
        "hidden_5 = tf.nn.leaky_relu(tf.matmul(hidden_4, weights_5) + biases_5)"
      ],
      "execution_count": 0,
      "outputs": []
    },
    {
      "cell_type": "markdown",
      "metadata": {
        "id": "IqJE2sbgOKZn",
        "colab_type": "text"
      },
      "source": [
        "**Hidden Layer 3**"
      ]
    },
    {
      "cell_type": "code",
      "metadata": {
        "id": "QYnZpBAfcwYe",
        "colab_type": "code",
        "colab": {}
      },
      "source": [
        "weights_6 = tf.Variable(tf.truncated_normal([1024,1024], stddev=0.09),name=\"Weights4\")\n",
        "biases_6 = tf.Variable(tf.zeros([1024]),name=\"Bias4\")\n",
        "hidden_6 = tf.nn.relu(tf.matmul(hidden_5, weights_6) + biases_6)"
      ],
      "execution_count": 0,
      "outputs": []
    },
    {
      "cell_type": "markdown",
      "metadata": {
        "id": "T5J6aLIyOMyk",
        "colab_type": "text"
      },
      "source": [
        "**Hidden Layer 4**"
      ]
    },
    {
      "cell_type": "code",
      "metadata": {
        "id": "4mdaWCyqSsO3",
        "colab_type": "code",
        "colab": {}
      },
      "source": [
        "\n",
        "weights_7 = tf.Variable(tf.truncated_normal([1024,1024], stddev=0.09),name=\"Weights5\")\n",
        "biases_7 = tf.Variable(tf.zeros([1024]),name=\"Bias5\")\n",
        "hidden_7 = tf.nn.leaky_relu(tf.matmul(hidden_6, weights_7) + biases_7)"
      ],
      "execution_count": 0,
      "outputs": []
    },
    {
      "cell_type": "markdown",
      "metadata": {
        "id": "2XlOLL2cOPZW",
        "colab_type": "text"
      },
      "source": [
        "**Hidden Layer 5**"
      ]
    },
    {
      "cell_type": "code",
      "metadata": {
        "id": "kO5iJK4roG03",
        "colab_type": "code",
        "colab": {}
      },
      "source": [
        " \n",
        "weights_2 = tf.Variable(tf.truncated_normal([1024,1024], stddev=0.09),name=\"Weights6\")\n",
        "biases_2 = tf.Variable(tf.zeros([1024]),name=\"Bias6\")\n",
        "hidden_2 = tf.nn.leaky_relu(tf.matmul(hidden_7, weights_2) + biases_2)"
      ],
      "execution_count": 0,
      "outputs": []
    },
    {
      "cell_type": "markdown",
      "metadata": {
        "id": "hCqEzzJlN_FJ",
        "colab_type": "text"
      },
      "source": [
        "**Output Layer**"
      ]
    },
    {
      "cell_type": "code",
      "metadata": {
        "id": "Ga2zEsTRp8Sd",
        "colab_type": "code",
        "colab": {}
      },
      "source": [
        "\n",
        "weights_3 = tf.Variable(tf.truncated_normal([1024,10], stddev=0.09),name=\"Weights7\")\n",
        "biases_3 = tf.Variable(tf.zeros([10]),name=\"Bias7\")\n",
        "Ylogits = tf.matmul(hidden_2, weights_3) + biases_3\n",
        "output = tf.nn.softmax(Ylogits)"
      ],
      "execution_count": 0,
      "outputs": []
    },
    {
      "cell_type": "code",
      "metadata": {
        "id": "l1c-Gv1Dy_qG",
        "colab_type": "code",
        "colab": {}
      },
      "source": [
        "\n",
        "cross_entropy= tf.reduce_mean(tf.nn.softmax_cross_entropy_with_logits_v2(logits=Ylogits, labels = Y))\n",
        "optimizer= tf.train.AdamOptimizer(0.0002)\n",
        "train_step= optimizer.minimize(cross_entropy)\n",
        "prediction= tf.argmax(output,1)\n",
        "correct_prediction = tf.equal(tf.argmax(output,1), tf.argmax(Y,1))\n",
        "c=tf.cast(correct_prediction, tf.float32)# taking correct predictin\n",
        "o=tf.argmax(output,1) # taking the predicted label from the model\n",
        "t=tf.argmax(Y,1) # taking the true label\n",
        "h1=tf.argmax(hidden_1,1)\n",
        "accuracy = tf.reduce_mean(tf.cast(correct_prediction, tf.float32))\n",
        "#cls_prediction = tf.argmax(output_logits, axis=1, name='predictions')"
      ],
      "execution_count": 0,
      "outputs": []
    },
    {
      "cell_type": "code",
      "metadata": {
        "id": "BpHlsWtI9Hmv",
        "colab_type": "code",
        "outputId": "940cd0bf-8a30-470f-d617-362cd18adb6d",
        "colab": {
          "base_uri": "https://localhost:8080/",
          "height": 35
        }
      },
      "source": [
        "with tf.Session() as sess:\n",
        "  init = tf.global_variables_initializer()\n",
        "  sess.run(init)\n",
        "  batch_size = 1000\n",
        "  epoch = 100\n",
        "  iterations = int(trainX.shape[0]/ batch_size)\n",
        "  for e in range(epoch):\n",
        "   # print(e)\n",
        "    for i in range(iterations):\n",
        "     # print(i)\n",
        "      batch_start= (i * batch_size) % (trainX.shape[0]- batch_size)\n",
        "      batch_end= batch_start + batch_size\n",
        "     # print(batch_start, batch_end)\n",
        "      batch_X = trainX[batch_start:batch_end]\n",
        "      batch_Y = trainY[batch_start:batch_end]\n",
        "      train_data = {X:batch_X, Y:batch_Y}\n",
        "      sess.run(train_step, feed_dict = train_data)\n",
        "      #print(sess.run(cross_entropy,feed_dict = train_data))\n",
        "      \n",
        "      \n",
        "    ans= sess.run(accuracy, feed_dict={X:testX, Y:testY})\n",
        "    pred= sess.run(correct_prediction , feed_dict={X:testX, Y:testY})\n",
        "    cc=sess.run(c , feed_dict={X:testX, Y:testY})\n",
        "    oo=sess.run(o,feed_dict={X:testX, Y:testY})\n",
        "    output_taking=sess.run(output,feed_dict={X:testX, Y:testY})\n",
        "    tt=sess.run(t,feed_dict={X:testX, Y:testY})\n",
        "    hh1=sess.run(h1,feed_dict={X:testX, Y:testY})\n",
        "    \n",
        " \n",
        "  ans= sess.run(accuracy, feed_dict={X:testX[:1000], Y:testY[:1000]})\n",
        "  \n",
        "  print(\"Accuracy for complete 1000 Test Set is \",ans*100,\"%\")\n",
        "  \n",
        "  \n",
        " "
      ],
      "execution_count": 15,
      "outputs": [
        {
          "output_type": "stream",
          "text": [
            "Accuracy for complete 1000 Test Set is  96.20000123977661 %\n"
          ],
          "name": "stdout"
        }
      ]
    },
    {
      "cell_type": "code",
      "metadata": {
        "id": "G2xVgSHk-Hdt",
        "colab_type": "code",
        "colab": {}
      },
      "source": [
        "ind=[]\n",
        "lab=[]\n",
        "for i in range(len(pred)):\n",
        "  if pred[i] == False:\n",
        "    ind.append(i)\n",
        "    lab.append(oo[i])"
      ],
      "execution_count": 0,
      "outputs": []
    },
    {
      "cell_type": "markdown",
      "metadata": {
        "id": "5QxcMeAQLCHi",
        "colab_type": "text"
      },
      "source": [
        "# Lets Look at the images that are classified wrong\n"
      ]
    },
    {
      "cell_type": "code",
      "metadata": {
        "id": "VGxotOdK-7jX",
        "colab_type": "code",
        "colab": {
          "base_uri": "https://localhost:8080/",
          "height": 1000
        },
        "outputId": "a9f8625b-6ab1-41bc-db52-e135f71cb6ed"
      },
      "source": [
        "c=0\n",
        "for i in range(5):\n",
        "  for j in range(2):\n",
        "    \n",
        "      ax=plt.subplot2grid((5, 2), (i, j))\n",
        "    #if i %2 != 0:\n",
        "      title= \"Below Input Image Predicted as \"+str(oo[c])\n",
        "      ax.set_title(title)\n",
        "      plt.figure(figsize=(10,10))\n",
        "      ax.imshow(testX[ind[c]].reshape((28,28)))\n",
        "      plt.axis('off')\n",
        "     \n",
        "      plt.axis('off')\n",
        "      c+=1\n",
        "      \n",
        "    \n",
        "\n"
      ],
      "execution_count": 118,
      "outputs": [
        {
          "output_type": "display_data",
          "data": {
            "image/png": "[encoded data removed]",
            "text/plain": [
              "<Figure size 432x288 with 1 Axes>"
            ]
          },
          "metadata": {
            "tags": []
          }
        },
        {
          "output_type": "display_data",
          "data": {
            "image/png": "[encoded data removed]",
            "text/plain": [
              "<Figure size 720x720 with 1 Axes>"
            ]
          },
          "metadata": {
            "tags": []
          }
        },
        {
          "output_type": "display_data",
          "data": {
            "image/png": "[encoded data removed]",
            "text/plain": [
              "<Figure size 720x720 with 1 Axes>"
            ]
          },
          "metadata": {
            "tags": []
          }
        },
        {
          "output_type": "display_data",
          "data": {
            "image/png": "[encoded data removed]",
            "text/plain": [
              "<Figure size 720x720 with 1 Axes>"
            ]
          },
          "metadata": {
            "tags": []
          }
        },
        {
          "output_type": "display_data",
          "data": {
            "image/png": "[encoded data removed]",
            "text/plain": [
              "<Figure size 720x720 with 1 Axes>"
            ]
          },
          "metadata": {
            "tags": []
          }
        },
        {
          "output_type": "display_data",
          "data": {
            "image/png": "[encoded data removed]",
            "text/plain": [
              "<Figure size 720x720 with 1 Axes>"
            ]
          },
          "metadata": {
            "tags": []
          }
        },
        {
          "output_type": "display_data",
          "data": {
            "image/png": "[encoded data removed]",
            "text/plain": [
              "<Figure size 720x720 with 1 Axes>"
            ]
          },
          "metadata": {
            "tags": []
          }
        },
        {
          "output_type": "display_data",
          "data": {
            "image/png": "[encoded data removed]",
            "text/plain": [
              "<Figure size 720x720 with 1 Axes>"
            ]
          },
          "metadata": {
            "tags": []
          }
        },
        {
          "output_type": "display_data",
          "data": {
            "image/png": "[encoded data removed]",
            "text/plain": [
              "<Figure size 720x720 with 1 Axes>"
            ]
          },
          "metadata": {
            "tags": []
          }
        },
        {
          "output_type": "display_data",
          "data": {
            "image/png": "[encoded data removed]",
            "text/plain": [
              "<Figure size 720x720 with 1 Axes>"
            ]
          },
          "metadata": {
            "tags": []
          }
        },
        {
          "output_type": "display_data",
          "data": {
            "image/png": "[encoded data removed]",
            "text/plain": [
              "<Figure size 720x720 with 1 Axes>"
            ]
          },
          "metadata": {
            "tags": []
          }
        }
      ]
    },
    {
      "cell_type": "code",
      "metadata": {
        "id": "EwGZjS-i_gly",
        "colab_type": "code",
        "colab": {
          "base_uri": "https://localhost:8080/",
          "height": 227
        },
        "outputId": "33ce529c-c726-45b2-ce25-dee78d09abe2"
      },
      "source": [
        ""
      ],
      "execution_count": 97,
      "outputs": [
        {
          "output_type": "display_data",
          "data": {
            "image/png": "[encoded data removed]",
            "text/plain": [
              "<Figure size 7200x216 with 9 Axes>"
            ]
          },
          "metadata": {
            "tags": []
          }
        }
      ]
    }
  ]
}