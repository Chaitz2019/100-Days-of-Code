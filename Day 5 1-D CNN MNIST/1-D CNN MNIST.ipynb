{
  "nbformat": 4,
  "nbformat_minor": 0,
  "metadata": {
    "colab": {
      "name": "Q1.ipynb",
      "version": "0.3.2",
      "provenance": [],
      "collapsed_sections": []
    },
    "kernelspec": {
      "name": "python3",
      "display_name": "Python 3"
    },
    "accelerator": "TPU"
  },
  "cells": [
    {
      "cell_type": "markdown",
      "metadata": {
        "id": "_jZ-F2pT8rdS",
        "colab_type": "text"
      },
      "source": [
        "# 1 D CNN on MNIST Dataset\n",
        "\n"
      ]
    },
    {
      "cell_type": "code",
      "metadata": {
        "id": "SNcFnM2Ko23C",
        "colab_type": "code",
        "outputId": "9916894e-67e8-4061-fcac-f3c76aa1062b",
        "colab": {
          "base_uri": "https://localhost:8080/",
          "height": 570
        }
      },
      "source": [
        "import tensorflow as tf\n",
        "import matplotlib.pyplot as plt\n",
        "import time\n",
        "from numpy import linalg as LA\n",
        "import numpy as np\n",
        "import math\n",
        "\n",
        "from tensorflow.examples.tutorials.mnist import input_data\n",
        "mnist = input_data.read_data_sets(\"MNIST_data/\", one_hot=True)\n",
        "trainX = mnist.train.images\n",
        "trainY = mnist.train.labels\n",
        "#print(trainY)\n",
        "testX = mnist.test.images\n",
        "testY = mnist.test.labels"
      ],
      "execution_count": 1,
      "outputs": [
        {
          "output_type": "stream",
          "text": [
            "WARNING: Logging before flag parsing goes to stderr.\n",
            "W0812 23:48:26.203482 139946391799680 deprecation.py:323] From <ipython-input-1-a39626f23f33>:9: read_data_sets (from tensorflow.contrib.learn.python.learn.datasets.mnist) is deprecated and will be removed in a future version.\n",
            "Instructions for updating:\n",
            "Please use alternatives such as official/mnist/dataset.py from tensorflow/models.\n",
            "W0812 23:48:26.205536 139946391799680 deprecation.py:323] From /usr/local/lib/python3.6/dist-packages/tensorflow/contrib/learn/python/learn/datasets/mnist.py:260: maybe_download (from tensorflow.contrib.learn.python.learn.datasets.base) is deprecated and will be removed in a future version.\n",
            "Instructions for updating:\n",
            "Please write your own downloading logic.\n",
            "W0812 23:48:26.219227 139946391799680 deprecation.py:323] From /usr/local/lib/python3.6/dist-packages/tensorflow/contrib/learn/python/learn/datasets/base.py:252: _internal_retry.<locals>.wrap.<locals>.wrapped_fn (from tensorflow.contrib.learn.python.learn.datasets.base) is deprecated and will be removed in a future version.\n",
            "Instructions for updating:\n",
            "Please use urllib or similar directly.\n",
            "W0812 23:48:26.326209 139946391799680 deprecation.py:323] From /usr/local/lib/python3.6/dist-packages/tensorflow/contrib/learn/python/learn/datasets/mnist.py:262: extract_images (from tensorflow.contrib.learn.python.learn.datasets.mnist) is deprecated and will be removed in a future version.\n",
            "Instructions for updating:\n",
            "Please use tf.data to implement this functionality.\n"
          ],
          "name": "stderr"
        },
        {
          "output_type": "stream",
          "text": [
            "Successfully downloaded train-images-idx3-ubyte.gz 9912422 bytes.\n",
            "Extracting MNIST_data/train-images-idx3-ubyte.gz\n"
          ],
          "name": "stdout"
        },
        {
          "output_type": "stream",
          "text": [
            "W0812 23:48:26.699143 139946391799680 deprecation.py:323] From /usr/local/lib/python3.6/dist-packages/tensorflow/contrib/learn/python/learn/datasets/mnist.py:267: extract_labels (from tensorflow.contrib.learn.python.learn.datasets.mnist) is deprecated and will be removed in a future version.\n",
            "Instructions for updating:\n",
            "Please use tf.data to implement this functionality.\n",
            "W0812 23:48:26.707960 139946391799680 deprecation.py:323] From /usr/local/lib/python3.6/dist-packages/tensorflow/contrib/learn/python/learn/datasets/mnist.py:110: dense_to_one_hot (from tensorflow.contrib.learn.python.learn.datasets.mnist) is deprecated and will be removed in a future version.\n",
            "Instructions for updating:\n",
            "Please use tf.one_hot on tensors.\n",
            "W0812 23:48:26.865715 139946391799680 deprecation.py:323] From /usr/local/lib/python3.6/dist-packages/tensorflow/contrib/learn/python/learn/datasets/mnist.py:290: DataSet.__init__ (from tensorflow.contrib.learn.python.learn.datasets.mnist) is deprecated and will be removed in a future version.\n",
            "Instructions for updating:\n",
            "Please use alternatives such as official/mnist/dataset.py from tensorflow/models.\n"
          ],
          "name": "stderr"
        },
        {
          "output_type": "stream",
          "text": [
            "Successfully downloaded train-labels-idx1-ubyte.gz 28881 bytes.\n",
            "Extracting MNIST_data/train-labels-idx1-ubyte.gz\n",
            "Successfully downloaded t10k-images-idx3-ubyte.gz 1648877 bytes.\n",
            "Extracting MNIST_data/t10k-images-idx3-ubyte.gz\n",
            "Successfully downloaded t10k-labels-idx1-ubyte.gz 4542 bytes.\n",
            "Extracting MNIST_data/t10k-labels-idx1-ubyte.gz\n"
          ],
          "name": "stdout"
        }
      ]
    },
    {
      "cell_type": "code",
      "metadata": {
        "id": "IHRelU5rkyo5",
        "colab_type": "code",
        "colab": {}
      },
      "source": [
        "X= tf.placeholder(tf.float32, shape= [None,28, 28,1], name= \"Input\")\n",
        "Y= tf.placeholder(tf.float32, [None, 10], name= \"Output\")\n",
        "keep_prob = tf.placeholder(\"float\")\n",
        "#X = tf.reshape(trainX, [None, 28, 28, 1])\n",
        "he_initializer = tf.contrib.layers.variance_scaling_initializer()"
      ],
      "execution_count": 0,
      "outputs": []
    },
    {
      "cell_type": "markdown",
      "metadata": {
        "id": "pct2_5KCXu8C",
        "colab_type": "text"
      },
      "source": [
        "# Convolution Neural Network\n",
        "I imlement 4 Layer CNN followed by 1 layer Dense Layer.\n"
      ]
    },
    {
      "cell_type": "code",
      "metadata": {
        "id": "UQA3x5u-7ASR",
        "colab_type": "code",
        "colab": {
          "base_uri": "https://localhost:8080/",
          "height": 70
        },
        "outputId": "b3c7ef91-85cc-411c-de39-ea609f017692"
      },
      "source": [
        "layer1 = tf.layers.conv2d(\n",
        "    inputs=X,\n",
        "    filters=5,\n",
        "    kernel_size=[1,4],\n",
        "    padding=\"same\",\n",
        "    activation=tf.nn.relu, kernel_initializer = he_initializer)\n",
        "max_pool1 = tf.layers.MaxPooling2D(pool_size = (1, 2), strides = (1,2))(layer1)\n"
      ],
      "execution_count": 3,
      "outputs": [
        {
          "output_type": "stream",
          "text": [
            "W0812 23:48:27.315711 139946391799680 deprecation.py:323] From <ipython-input-3-a07ae32e7b9e>:6: conv2d (from tensorflow.python.layers.convolutional) is deprecated and will be removed in a future version.\n",
            "Instructions for updating:\n",
            "Use `tf.keras.layers.Conv2D` instead.\n"
          ],
          "name": "stderr"
        }
      ]
    },
    {
      "cell_type": "code",
      "metadata": {
        "id": "CwNy82u7A4Zf",
        "colab_type": "code",
        "colab": {
          "base_uri": "https://localhost:8080/",
          "height": 35
        },
        "outputId": "7196e5c9-1623-4eb4-f208-fa04dd47cc05"
      },
      "source": [
        "max_pool1.get_shape()"
      ],
      "execution_count": 4,
      "outputs": [
        {
          "output_type": "execute_result",
          "data": {
            "text/plain": [
              "TensorShape([Dimension(None), Dimension(28), Dimension(14), Dimension(5)])"
            ]
          },
          "metadata": {
            "tags": []
          },
          "execution_count": 4
        }
      ]
    },
    {
      "cell_type": "markdown",
      "metadata": {
        "id": "6kzPeLvgYDhF",
        "colab_type": "text"
      },
      "source": [
        "2nd CNN Layer\n"
      ]
    },
    {
      "cell_type": "code",
      "metadata": {
        "id": "EaShMM7UyOrQ",
        "colab_type": "code",
        "colab": {}
      },
      "source": [
        "layer3 = tf.layers.conv2d(\n",
        "    inputs=max_pool1,\n",
        "    filters=16,\n",
        "    kernel_size=[1,4],\n",
        "    padding=\"same\",\n",
        "    activation=tf.nn.relu, kernel_initializer = he_initializer)\n",
        "\n",
        "max_pool3 = tf.layers.MaxPooling2D(pool_size = (2, 2), strides = (1, 2))(layer3)"
      ],
      "execution_count": 0,
      "outputs": []
    },
    {
      "cell_type": "markdown",
      "metadata": {
        "id": "qOYuA2v-YHg5",
        "colab_type": "text"
      },
      "source": [
        "3rd CNN Layer"
      ]
    },
    {
      "cell_type": "code",
      "metadata": {
        "id": "Zy0fbwkEOT5t",
        "colab_type": "code",
        "colab": {}
      },
      "source": [
        "layer4 = tf.layers.conv2d(\n",
        "    inputs=max_pool3,\n",
        "    filters=16,\n",
        "    kernel_size=[1,4],\n",
        "    padding=\"same\",\n",
        "    activation=tf.nn.relu, kernel_initializer = he_initializer)\n",
        "\n",
        "max_pool4 = tf.layers.MaxPooling2D(pool_size = (2, 2), strides = (1, 2))(layer4)"
      ],
      "execution_count": 0,
      "outputs": []
    },
    {
      "cell_type": "markdown",
      "metadata": {
        "id": "6aAgtLSXYKNQ",
        "colab_type": "text"
      },
      "source": [
        "4Th CNN Layer"
      ]
    },
    {
      "cell_type": "code",
      "metadata": {
        "id": "RVM8vGor7i6o",
        "colab_type": "code",
        "colab": {}
      },
      "source": [
        "layer2 = tf.layers.conv2d(\n",
        "    inputs=max_pool4,\n",
        "    filters=16,\n",
        "    kernel_size=[1,4],\n",
        "    padding=\"same\",\n",
        "    activation=tf.nn.relu, kernel_initializer = he_initializer)\n",
        "\n",
        "max_pool2 = tf.layers.MaxPooling2D(pool_size = (2, 2), strides = (1, 2))(layer2)"
      ],
      "execution_count": 0,
      "outputs": []
    },
    {
      "cell_type": "code",
      "metadata": {
        "id": "ERPveHgM7oT_",
        "colab_type": "code",
        "colab": {}
      },
      "source": [
        "max_pool2.get_shape()\n",
        "pool2_flat = tf.reshape(max_pool2, [-1, 25 * 1 * 16])"
      ],
      "execution_count": 0,
      "outputs": []
    },
    {
      "cell_type": "markdown",
      "metadata": {
        "id": "JSpQqB2TYNHt",
        "colab_type": "text"
      },
      "source": [
        "1 Dense Layer"
      ]
    },
    {
      "cell_type": "code",
      "metadata": {
        "id": "aC-a4fpbBYLX",
        "colab_type": "code",
        "colab": {
          "base_uri": "https://localhost:8080/",
          "height": 70
        },
        "outputId": "a11e0ccc-69a1-4286-905b-95f77f208d1c"
      },
      "source": [
        "dense = tf.layers.dense(inputs= pool2_flat, units=512, activation=tf.nn.relu, kernel_initializer = he_initializer)"
      ],
      "execution_count": 10,
      "outputs": [
        {
          "output_type": "stream",
          "text": [
            "W0812 23:48:49.855126 139946391799680 deprecation.py:323] From <ipython-input-10-0530c861d532>:1: dense (from tensorflow.python.layers.core) is deprecated and will be removed in a future version.\n",
            "Instructions for updating:\n",
            "Use keras.layers.dense instead.\n"
          ],
          "name": "stderr"
        }
      ]
    },
    {
      "cell_type": "code",
      "metadata": {
        "id": "MkSAL7sYBod7",
        "colab_type": "code",
        "colab": {
          "base_uri": "https://localhost:8080/",
          "height": 90
        },
        "outputId": "a6969911-9fb6-4b30-d62f-c29018736617"
      },
      "source": [
        "logits = tf.layers.dense(inputs=dense, units=10)\n",
        "tf.nn.softmax(logits, name=\"softmax_tensor\")\n",
        "output= tf.reshape(logits, shape = [-1, 10])\n",
        "\n"
      ],
      "execution_count": 11,
      "outputs": [
        {
          "output_type": "stream",
          "text": [
            "W0812 23:48:50.234778 139946391799680 deprecation.py:506] From /usr/local/lib/python3.6/dist-packages/tensorflow/python/ops/init_ops.py:1251: calling VarianceScaling.__init__ (from tensorflow.python.ops.init_ops) with dtype is deprecated and will be removed in a future version.\n",
            "Instructions for updating:\n",
            "Call initializer instance with the dtype argument instead of passing it to the constructor\n"
          ],
          "name": "stderr"
        }
      ]
    },
    {
      "cell_type": "code",
      "metadata": {
        "id": "wahFCblzE8xh",
        "colab_type": "code",
        "colab": {
          "base_uri": "https://localhost:8080/",
          "height": 35
        },
        "outputId": "d66cab1d-f3ae-4041-d6e1-277635a2b734"
      },
      "source": [
        "output.get_shape()"
      ],
      "execution_count": 12,
      "outputs": [
        {
          "output_type": "execute_result",
          "data": {
            "text/plain": [
              "TensorShape([Dimension(None), Dimension(10)])"
            ]
          },
          "metadata": {
            "tags": []
          },
          "execution_count": 12
        }
      ]
    },
    {
      "cell_type": "code",
      "metadata": {
        "id": "IIsElgVkIZ96",
        "colab_type": "code",
        "colab": {}
      },
      "source": [
        "cross_entropy= tf.reduce_mean(tf.nn.softmax_cross_entropy_with_logits_v2(logits=logits, labels = Y))\n",
        "optimizer= tf.train.AdamOptimizer(0.002)\n",
        "train_step= optimizer.minimize(cross_entropy )\n",
        "\n",
        "prediction= tf.argmax(output,1)\n",
        "correct_prediction = tf.equal(tf.argmax(output,1), tf.argmax(Y,1))\n",
        "accuracy = tf.reduce_mean(tf.cast(correct_prediction, tf.float32))"
      ],
      "execution_count": 0,
      "outputs": []
    },
    {
      "cell_type": "markdown",
      "metadata": {
        "id": "rBD8CWhKYQ6t",
        "colab_type": "text"
      },
      "source": [
        "Session Starts Here"
      ]
    },
    {
      "cell_type": "code",
      "metadata": {
        "id": "hnXEYtjJIn_2",
        "colab_type": "code",
        "colab": {
          "base_uri": "https://localhost:8080/",
          "height": 624
        },
        "outputId": "15a89af5-136d-4c58-d47c-82b665b7df05"
      },
      "source": [
        "with tf.Session() as sess:\n",
        "  init = tf.global_variables_initializer()\n",
        "  sess.run(init)\n",
        "  batch_size = 20000\n",
        "  epoch = 100\n",
        "  iterations = int(trainX.shape[0]/ batch_size)\n",
        "  #print(iterations)\n",
        "  for e in range(epoch):\n",
        "    \n",
        "    \n",
        "    \n",
        "    start = time.time()\n",
        "    #print(e,\"epoch\")\n",
        "    for i in range(iterations):\n",
        "      \n",
        "     # print('iteration ',i)\n",
        "      batch_start= (i * batch_size) % (trainX.shape[0]- batch_size)\n",
        "      batch_end= batch_start + batch_size\n",
        "     # print(batch_start, batch_end)\n",
        "      batch_X = trainX[batch_start:batch_end]\n",
        "      batch_Y = trainY[batch_start:batch_end]\n",
        "      \n",
        "      \n",
        "       \n",
        "      batch_X = np.reshape(batch_X, (batch_size, 28, 28, 1))\n",
        "      batch_Y = np.reshape(batch_Y, (batch_size, 10))\n",
        "\n",
        "      train_data = {X:batch_X, Y:batch_Y}\n",
        "      sess.run(train_step, feed_dict = train_data)\n",
        "      end = time.time()\n",
        "  \n",
        "  \n",
        " \n",
        "  n_columns = 4\n",
        "  n_rows=-1\n",
        "  for la in [layer1, layer3, layer4, layer2]:\n",
        "    n_rows+=1\n",
        "    if n_rows > 2:\n",
        "      plt.figure(figsize=(10+15,10))\n",
        "    else:\n",
        "      plt.figure(figsize=(10,10))\n",
        "    \n",
        "     \n",
        "    for k in range(5):\n",
        "      #print(n_rows,k+1)\n",
        "      ax=plt.subplot2grid((4, 5), (n_rows,k ))\n",
        "      if k==0:\n",
        "        \n",
        "        imageToUse = mnist.train.images[3]\n",
        "        #ax.subplot(n_rows, n_columns, k+1)\n",
        "        ax.imshow(np.reshape(imageToUse,[28,28]), interpolation=\"nearest\", cmap=\"gray\")\n",
        "        #ax.title(\"INPUT IMAGE\")\n",
        "      else:\n",
        "       # ax=plt.subplot2grid((4, 5), (n_rows,k+1 ))\n",
        "        #ax.title('Filter Layer1' + str(k))\n",
        "\n",
        "        #ax.subplot(n_rows, n_columns, k+1)\n",
        "        units = sess.run(la,feed_dict={X:np.reshape(mnist.train.images[3],[1,28,28,1],order='F')})\n",
        "        filters = units.shape[3]\n",
        "\n",
        "\n",
        "      #print(LA.norm(units[0,:,:,k]),\"Detttttttttttttttt\")\n",
        "        ax.imshow(units[0,:,:,k], interpolation=\"nearest\", cmap=\"gray\")\n",
        "\n",
        "\n",
        "  \n",
        "      \n",
        "    \n",
        "  \n",
        "  test_X = np.reshape(testX[:1000], (1000,28 , 28, 1))\n",
        "  test_Y = np.reshape(testY[:1000], (1000, 10))\n",
        "  ans= sess.run(accuracy, feed_dict={X:test_X, Y:test_Y})\n",
        "  \n",
        "  print(\"Accuracy for complete 1000 Test Set is \",ans*100,\"%\")\n",
        "  \n",
        "  \n",
        "      \n",
        "      "
      ],
      "execution_count": 14,
      "outputs": [
        {
          "output_type": "stream",
          "text": [
            "Accuracy for complete 1000 Test Set is  98.19999933242798 %\n"
          ],
          "name": "stdout"
        },
        {
          "output_type": "display_data",
          "data": {
            "image/png": "[encoded data removed]",
            "text/plain": [
              "<Figure size 720x720 with 5 Axes>"
            ]
          },
          "metadata": {
            "tags": []
          }
        },
        {
          "output_type": "display_data",
          "data": {
            "image/png": "[encoded data removed]",
            "text/plain": [
              "<Figure size 720x720 with 5 Axes>"
            ]
          },
          "metadata": {
            "tags": []
          }
        },
        {
          "output_type": "display_data",
          "data": {
            "image/png": "[encoded data removed]",
            "text/plain": [
              "<Figure size 720x720 with 5 Axes>"
            ]
          },
          "metadata": {
            "tags": []
          }
        },
        {
          "output_type": "display_data",
          "data": {
            "image/png": "[encoded data removed]",
            "text/plain": [
              "<Figure size 1800x720 with 5 Axes>"
            ]
          },
          "metadata": {
            "tags": []
          }
        }
      ]
    },
    {
      "cell_type": "markdown",
      "metadata": {
        "id": "H0HJv2KlYTuj",
        "colab_type": "text"
      },
      "source": [
        "We see above that we have used 1 D CNN and we see that accuracy is 98%+. With just 4 layers we could acheive 98% accuracy. In the previous post we saw that in FNN I used 5 layers and My accuracy was less than 98%. CNN needs less computational power compared to fully Connected neural network and also we saw that accuracy is increased. I have extracted features by using 1-D CNN, in the next post we will see 2-D CNN.\n",
        "\n",
        "I have plotted the Feature maps from the 4 layers. 1st column has the input image and the next 4 images are 4 filters out of the 16 filters we have applied."
      ]
    }
  ]
}